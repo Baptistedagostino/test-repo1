{
  "nbformat": 4,
  "nbformat_minor": 0,
  "metadata": {
    "colab": {
      "provenance": []
    },
    "kernelspec": {
      "name": "python3",
      "display_name": "Python 3"
    },
    "language_info": {
      "name": "python"
    }
  },
  "cells": [
    {
      "cell_type": "code",
      "execution_count": null,
      "metadata": {
        "colab": {
          "base_uri": "https://localhost:8080/"
        },
        "id": "X0kDlb2u0PS0",
        "outputId": "680884b7-2afb-4f94-bff6-a8ccdc63be23"
      },
      "outputs": [
        {
          "output_type": "stream",
          "name": "stdout",
          "text": [
            "enter your grade: 21\n",
            "error\n"
          ]
        }
      ],
      "source": [
        "x = float(input(\"enter your grade: \"))\n",
        "if x<10 and x>=0:\n",
        "  print(\"fail\")\n",
        "elif x>=10 and x<=14:\n",
        "  print(\"pass\")\n",
        "elif x>=15 and x<=20:\n",
        "  print(\"distinction\")\n",
        "else:\n",
        "  print(\"error\")\n"
      ]
    },
    {
      "cell_type": "markdown",
      "source": [],
      "metadata": {
        "id": "jCVbcKrS6PCv"
      }
    }
  ]
}